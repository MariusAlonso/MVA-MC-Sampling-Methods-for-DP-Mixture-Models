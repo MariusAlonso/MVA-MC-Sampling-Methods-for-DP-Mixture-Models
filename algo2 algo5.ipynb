{
 "cells": [
  {
   "cell_type": "markdown",
   "metadata": {},
   "source": [
    "# Setup"
   ]
  },
  {
   "cell_type": "code",
   "execution_count": 11,
   "metadata": {},
   "outputs": [],
   "source": [
    "import numpy as np\n",
    "import matplotlib.pyplot as plt\n",
    "from itertools import cycle\n",
    "import pandas as pd"
   ]
  },
  {
   "cell_type": "code",
   "execution_count": 12,
   "metadata": {},
   "outputs": [],
   "source": [
    "data = np.array([-2.10156743, -1.8583213 , -2.11703494, -2.06448116, -2.01051116,\n",
    "       -1.99979037, -2.00745361, -1.91303719, -1.71658038, -2.03513678,\n",
    "       -1.8671988 , -1.98053945, -2.05135859, -2.05002873, -2.03048385,\n",
    "       -1.85493751, -1.99955027, -2.00088738, -1.93089063, -1.93584365,\n",
    "        1.93655427,  2.02697566,  1.89414285,  1.94652809,  2.04512789,\n",
    "        1.92124268,  1.98938654,  1.96876467,  1.93261298,  2.07054605,\n",
    "        2.18631844,  2.06854217,  1.75776435,  1.96133907,  2.04214097,\n",
    "        1.93294967,  2.06293103,  1.90393445,  2.04024823,  2.09286621])"
   ]
  },
  {
   "cell_type": "markdown",
   "metadata": {},
   "source": [
    "# Data"
   ]
  },
  {
   "cell_type": "code",
   "execution_count": 13,
   "metadata": {},
   "outputs": [
    {
     "data": {
      "text/html": [
       "<div>\n",
       "<style scoped>\n",
       "    .dataframe tbody tr th:only-of-type {\n",
       "        vertical-align: middle;\n",
       "    }\n",
       "\n",
       "    .dataframe tbody tr th {\n",
       "        vertical-align: top;\n",
       "    }\n",
       "\n",
       "    .dataframe thead th {\n",
       "        text-align: right;\n",
       "    }\n",
       "</style>\n",
       "<table border=\"1\" class=\"dataframe\">\n",
       "  <thead>\n",
       "    <tr style=\"text-align: right;\">\n",
       "      <th></th>\n",
       "      <th>eruptions</th>\n",
       "      <th>waiting</th>\n",
       "    </tr>\n",
       "  </thead>\n",
       "  <tbody>\n",
       "    <tr>\n",
       "      <th>0</th>\n",
       "      <td>3.600</td>\n",
       "      <td>79</td>\n",
       "    </tr>\n",
       "    <tr>\n",
       "      <th>1</th>\n",
       "      <td>1.800</td>\n",
       "      <td>54</td>\n",
       "    </tr>\n",
       "    <tr>\n",
       "      <th>2</th>\n",
       "      <td>3.333</td>\n",
       "      <td>74</td>\n",
       "    </tr>\n",
       "    <tr>\n",
       "      <th>3</th>\n",
       "      <td>2.283</td>\n",
       "      <td>62</td>\n",
       "    </tr>\n",
       "    <tr>\n",
       "      <th>4</th>\n",
       "      <td>4.533</td>\n",
       "      <td>85</td>\n",
       "    </tr>\n",
       "    <tr>\n",
       "      <th>...</th>\n",
       "      <td>...</td>\n",
       "      <td>...</td>\n",
       "    </tr>\n",
       "    <tr>\n",
       "      <th>267</th>\n",
       "      <td>4.117</td>\n",
       "      <td>81</td>\n",
       "    </tr>\n",
       "    <tr>\n",
       "      <th>268</th>\n",
       "      <td>2.150</td>\n",
       "      <td>46</td>\n",
       "    </tr>\n",
       "    <tr>\n",
       "      <th>269</th>\n",
       "      <td>4.417</td>\n",
       "      <td>90</td>\n",
       "    </tr>\n",
       "    <tr>\n",
       "      <th>270</th>\n",
       "      <td>1.817</td>\n",
       "      <td>46</td>\n",
       "    </tr>\n",
       "    <tr>\n",
       "      <th>271</th>\n",
       "      <td>4.467</td>\n",
       "      <td>74</td>\n",
       "    </tr>\n",
       "  </tbody>\n",
       "</table>\n",
       "<p>272 rows × 2 columns</p>\n",
       "</div>"
      ],
      "text/plain": [
       "     eruptions  waiting\n",
       "0        3.600       79\n",
       "1        1.800       54\n",
       "2        3.333       74\n",
       "3        2.283       62\n",
       "4        4.533       85\n",
       "..         ...      ...\n",
       "267      4.117       81\n",
       "268      2.150       46\n",
       "269      4.417       90\n",
       "270      1.817       46\n",
       "271      4.467       74\n",
       "\n",
       "[272 rows x 2 columns]"
      ]
     },
     "execution_count": 13,
     "metadata": {},
     "output_type": "execute_result"
    }
   ],
   "source": [
    "faithful_df=pd.read_csv('faithful.csv')\n",
    "del faithful_df['Unnamed: 0']\n",
    "faithful_df"
   ]
  },
  {
   "cell_type": "code",
   "execution_count": 14,
   "metadata": {},
   "outputs": [
    {
     "data": {
      "image/png": "[encoded data removed]",
      "text/plain": [
       "<Figure size 432x288 with 1 Axes>"
      ]
     },
     "metadata": {
      "needs_background": "light"
     },
     "output_type": "display_data"
    }
   ],
   "source": [
    "faithful_df['waiting'].hist()\n",
    "plt.xlabel('Index')\n",
    "plt.ylabel('Waiting Time')\n",
    "plt.title('Line Plot of Waiting Time')\n",
    "plt.show()"
   ]
  },
  {
   "cell_type": "code",
   "execution_count": 15,
   "metadata": {},
   "outputs": [],
   "source": [
    "waiting_data = np.array(faithful_df[\"waiting\"])"
   ]
  },
  {
   "cell_type": "code",
   "execution_count": 34,
   "metadata": {},
   "outputs": [],
   "source": [
    "waiting_data = np.array([-1.48, -1.40, -1.08, -1.02, 0.14, 0.51, 0.53, 0.78])"
   ]
  },
  {
   "cell_type": "markdown",
   "metadata": {},
   "source": [
    "# Define the model"
   ]
  },
  {
   "cell_type": "code",
   "execution_count": 8,
   "metadata": {},
   "outputs": [],
   "source": [
    "def g0_sampler():\n",
    "    return np.random.normal(0, 1)\n",
    "\n",
    "def f_sampler(theta):\n",
    "    return np.random.normal(theta, 0.1)\n",
    "\n",
    "def F_likelihood(theta, x):\n",
    "    return np.exp(-(theta - x)**2 / (2 * 0.1**2))"
   ]
  },
  {
   "cell_type": "code",
   "execution_count": 9,
   "metadata": {},
   "outputs": [],
   "source": [
    "def DP_sampler(n, alpha):\n",
    "    # Sample the phis\n",
    "    thetas = []\n",
    "    for i in range(n):\n",
    "        u = np.random.uniform()\n",
    "        if u < alpha / (alpha + i):\n",
    "            thetas.append(g0_sampler())\n",
    "        else:\n",
    "            thetas.append(thetas[np.random.randint(0, i)])\n",
    "    return thetas"
   ]
  },
  {
   "cell_type": "code",
   "execution_count": 10,
   "metadata": {},
   "outputs": [],
   "source": [
    "tau = 0.2\n",
    "\n",
    "def Hi_sampler(y):\n",
    "    m = (y / tau**2) / (1 / tau**2 + 1 / 1**2)\n",
    "    s = 1 / (1 / tau**2 + 1 / 1**2)\n",
    "    return np.random.normal(m, s)\n",
    "\n",
    "def ri_integral(y):\n",
    "    return tau * np.exp(-y**2 / (2 + 2 * tau**2)) / np.sqrt(tau**2 + 1)"
   ]
  },
  {
   "cell_type": "code",
   "execution_count": null,
   "metadata": {},
   "outputs": [],
   "source": [
    "## Create a one for all algo runner\n",
    "\n",
    "def run_algorithm(algorithm, n_iter, alpha, data):\n",
    "    n = len(data)\n",
    "    cs, phis, lhs = algorithm(n_iter, data, alpha)\n",
    "    c = cs[-1]\n",
    "    phi = phis[-1]\n",
    "\n",
    "\n",
    "    plt.figure()\n",
    "    # define infinite list of colors\n",
    "    COLORS = plt.rcParams['axes.prop_cycle'].by_key()['color']\n",
    "    for i, cluster in enumerate(np.unique(c)):\n",
    "        plt.scatter(np.arange(n)[c == cluster], data[c == cluster], label=cluster, color=COLORS[i])\n",
    "        plt.axhline(phi[cluster], color=COLORS[i], linestyle=\"--\")\n",
    "    plt.title(\"Generated data\")\n",
    "    plt.xlabel(\"x\")\n",
    "    plt.ylabel(\"y\")\n",
    "    plt.legend()\n",
    "    plt.show()\n",
    "\n",
    "    # plot evolution of lh\n",
    "    plt.figure()\n",
    "    plt.plot(np.mean(lhs, axis=1))\n",
    "    plt.title(\"Evolution of likelihood\")\n",
    "    plt.xlabel(\"Iteration\")\n",
    "    plt.ylabel(\"Likelihood\")\n",
    "    plt.show()\n"
   ]
  },
  {
   "cell_type": "code",
   "execution_count": 9,
   "metadata": {},
   "outputs": [
    {
     "data": {
      "image/png": "[encoded data removed]",
      "text/plain": [
       "<Figure size 432x288 with 2 Axes>"
      ]
     },
     "metadata": {
      "needs_background": "light"
     },
     "output_type": "display_data"
    }
   ],
   "source": [
    "# Generate data\n",
    "n = 100\n",
    "alpha = 0.3\n",
    "thetas = DP_sampler(n, alpha)\n",
    "y = np.array([f_sampler(theta) for theta in thetas])\n",
    "\n",
    "# Plot data\n",
    "plt.figure()\n",
    "plt.scatter(np.arange(n), y, c=thetas)\n",
    "plt.title(\"Generated data\")\n",
    "plt.xlabel(\"x\")\n",
    "plt.ylabel(\"y\")\n",
    "plt.colorbar()\n",
    "plt.show()"
   ]
  },
  {
   "cell_type": "code",
   "execution_count": 19,
   "metadata": {},
   "outputs": [],
   "source": [
    "def find_unused_cluster(c):\n",
    "    # Find the first unused cluster\n",
    "    for k in range(len(c)):\n",
    "        if np.sum(c == k) == 0:\n",
    "            return k\n",
    "\n",
    "    raise Exception(\"No unused cluster found\")"
   ]
  },
  {
   "cell_type": "markdown",
   "metadata": {},
   "source": [
    "# Algorithm 5"
   ]
  },
  {
   "cell_type": "code",
   "execution_count": 35,
   "metadata": {},
   "outputs": [],
   "source": [
    "def algorithm_5_sampler(alpha, c_unique, c_count, c, n):\n",
    "        # Draw a candidate phi_i_star from Eq 5.4\n",
    "        new_parameter_prob = alpha / (n - 1 + alpha)\n",
    "        old_parameter_prob = 1 / (n - 1 + alpha)\n",
    "        # Sampling probabilities for all [old params , new param] and normalize to get a probability distribution\n",
    "        sampling_prob = np.append(old_parameter_prob * c_count , new_parameter_prob)\n",
    "        sampling_prob /= np.sum(sampling_prob)\n",
    "        # Choose cluster with probability sampling_prob\n",
    "        # The new cluster replaces an unused cluster\n",
    "        ci_star = np.random.choice(np.append(c_unique, find_unused_cluster(c)), p=sampling_prob)\n",
    "        return ci_star\n"
   ]
  },
  {
   "cell_type": "code",
   "execution_count": 36,
   "metadata": {},
   "outputs": [],
   "source": [
    "def algorithm_5(n_iters, y, alpha):\n",
    "    n = len(y)\n",
    "    cs = np.zeros((n_iters+1, n), dtype=int)\n",
    "    phis = np.zeros((n_iters+1, n), dtype=float)\n",
    "    lhs = np.zeros((n_iters+1, n), dtype=float)\n",
    "\n",
    "    for iter in range(1,n_iters+1):\n",
    "        c = cs[iter-1].copy()\n",
    "        phi = phis[iter-1].copy()\n",
    "        lh = lhs[iter-1].copy()\n",
    "\n",
    "        for ii in range(n):\n",
    "            c_unique, c_count = np.unique(c, return_counts=True)\n",
    "            # get n_-i,c\n",
    "            c_count -= (c_unique == c[ii]).astype(int)\n",
    "            # Sample a ci_star from Eq 5.4\n",
    "            ci_star = algorithm_5_sampler(alpha, c_unique, c_count, c, n)\n",
    "\n",
    "            # If the sampled index is the last one, we sample from G0\n",
    "            if ci_star == len(c_unique):\n",
    "                phi_proposal = g0_sampler()\n",
    "            else: # Else we use an existing cluster\n",
    "                phi_proposal = phi[ci_star]\n",
    "            \n",
    "            lh_proposal = F_likelihood(phi_proposal, y[ii])\n",
    "\n",
    "            # Compute acceptance probability\n",
    "            acceptance_prob = min(1, lh_proposal / lh[ii])\n",
    "\n",
    "            # Accept or reject\n",
    "            if np.random.rand() < acceptance_prob:\n",
    "                c[ii] = ci_star\n",
    "                phi[c[ii]] = phi_proposal\n",
    "                lh[ii] = lh_proposal\n",
    "        \n",
    "\n",
    "\n",
    "        for c_unique in np.unique(c):\n",
    "            phi[c_unique] = np.random.normal(np.mean(y[c == c_unique]), 0.01)\n",
    "\n",
    "        cs[iter] = c.copy()\n",
    "        phis[iter] = phi.copy()\n",
    "        lhs[iter] = lh.copy()\n",
    "\n",
    "    \n",
    "    return cs, phis, lhs\n",
    "   "
   ]
  },
  {
   "cell_type": "code",
   "execution_count": 37,
   "metadata": {},
   "outputs": [
    {
     "name": "stderr",
     "output_type": "stream",
     "text": [
      "C:\\Users\\billo\\AppData\\Local\\Temp\\ipykernel_6368\\2570136176.py:28: RuntimeWarning: divide by zero encountered in scalar divide\n",
      "  acceptance_prob = min(1, lh_proposal / lh[ii])\n"
     ]
    },
    {
     "data": {
      "image/png": "[encoded data removed]",
      "text/plain": [
       "<Figure size 432x288 with 1 Axes>"
      ]
     },
     "metadata": {
      "needs_background": "light"
     },
     "output_type": "display_data"
    },
    {
     "data": {
      "image/png": "[encoded data removed]",
      "text/plain": [
       "<Figure size 432x288 with 1 Axes>"
      ]
     },
     "metadata": {
      "needs_background": "light"
     },
     "output_type": "display_data"
    }
   ],
   "source": [
    "# Run algorithm 5\n",
    "data = waiting_data\n",
    "n = len(data)\n",
    "N = 1000\n",
    "alpha = 0.25\n",
    "\n",
    "\n",
    "cs, phis, lhs = algorithm_5(N, data, alpha)\n",
    "c = cs[-1]\n",
    "phi = phis[-1]\n",
    "\n",
    "\n",
    "plt.figure()\n",
    "# define infinite list of colors\n",
    "COLORS = plt.rcParams['axes.prop_cycle'].by_key()['color']\n",
    "for i, cluster in enumerate(np.unique(c)):\n",
    "    plt.scatter(np.arange(n)[c == cluster], data[c == cluster], label=cluster, color=COLORS[i])\n",
    "    plt.axhline(phi[cluster], color=COLORS[i], linestyle=\"--\")\n",
    "plt.title(\"Generated data\")\n",
    "plt.xlabel(\"x\")\n",
    "plt.ylabel(\"y\")\n",
    "plt.legend()\n",
    "plt.show()\n",
    "\n",
    "# plot evolution of lh\n",
    "plt.figure()\n",
    "plt.plot(np.mean(lhs, axis=1))\n",
    "plt.title(\"Evolution of likelihood\")\n",
    "plt.xlabel(\"Iteration\")\n",
    "plt.ylabel(\"Likelihood\")\n",
    "plt.show()"
   ]
  },
  {
   "cell_type": "markdown",
   "metadata": {},
   "source": [
    "# Algorithm 2"
   ]
  },
  {
   "cell_type": "markdown",
   "metadata": {},
   "source": [
    "In our implementations, \n",
    "- $n$ is the number of observations $y = (y_1, ..., y_n)\n",
    "- $c = (c_1, ..., c_n)$ is a list of integers, where $c_i$ is the cluster of observation $i$\n",
    "- $\\phi$ or $\\theta$ depending of the algorithms is a list where $\\phi_i$ is the mean of the cluster $c_i$ "
   ]
  },
  {
   "cell_type": "code",
   "execution_count": 21,
   "metadata": {},
   "outputs": [],
   "source": [
    "def algorithm_2_sampler(alpha, c_unique, c_count, c, n):\n",
    "\n",
    "    # Gibbs Sampler following Eq 3.6\n",
    "    new_parameter_prob = alpha / (n - 1 + alpha) * ri_integral(y[ii])\n",
    "    old_parameter_prob = 1 / (n - 1 + alpha) * F_likelihood(phi[c[ii]], y[ii])\n",
    "    # Sampling probabilities for all [old params , new param] and \n",
    "    sampling_prob = np.append(old_parameter_prob * c_count , new_parameter_prob)\n",
    "    # Normalize to get a probability distribution\n",
    "    sampling_prob /= np.sum(sampling_prob)\n",
    "    # Choose cluster with probability sampling_prob\n",
    "    # The new cluster replaces an unused cluster\n",
    "    ci_star = np.random.choice(np.append(c_unique, find_unused_cluster(c)), p=sampling_prob)\n",
    "    return ci_star\n"
   ]
  },
  {
   "cell_type": "code",
   "execution_count": 22,
   "metadata": {},
   "outputs": [],
   "source": [
    "def algorithm_2(n_iters, y, alpha):\n",
    "    n = len(y)\n",
    "    phis = np.zeros((n_iters+1, n), dtype=float)\n",
    "    cs = np.zeros((n_iters+1, n), dtype=int)\n",
    "\n",
    "    for iter in range(1, n_iters+1):\n",
    "        phi = phis[iter-1].copy() \n",
    "        c = cs[iter-1].copy()\n",
    "\n",
    "        for ii in range(n):\n",
    "            c_unique, c_count = np.unique(c, return_counts=True)\n",
    "            # get n_-i,c\n",
    "            c_count -= (c_unique == c[ii]).astype(int)\n",
    "\n",
    "            \n",
    "            # Remove phi_ci from the state and draw a new value for ci from eq 3.6\n",
    "            new_parameter_prob = alpha / (n - 1 + alpha) * ri_integral(y[ii])\n",
    "            old_parameter_prob = 1 / (n - 1 + alpha) * F_likelihood(phi[c_unique], y[ii])\n",
    "            # Sampling probabilities for all [old params , new param] \n",
    "            sampling_prob = np.append(old_parameter_prob * c_count , new_parameter_prob)\n",
    "            # Normalize to get a probability distribution\n",
    "            sampling_prob /= np.sum(sampling_prob)\n",
    "            # Choose cluster with probability sampling_prob\n",
    "            # The new cluster replaces an unused cluster\n",
    "            if np.sum(c == c[ii]) == 1:\n",
    "                ci_star = np.random.choice(np.append(c_unique, c[ii]), p=sampling_prob)\n",
    "            else:\n",
    "                ci_star = np.random.choice(np.append(c_unique, find_unused_cluster(c)), p=sampling_prob)\n",
    "            c[ii] = ci_star\n",
    "            if np.sum(ci_star == c) == 1:\n",
    "                phi[ci_star] = Hi_sampler(y[c == ci_star])\n",
    "        \n",
    "        for c_unique in np.unique(c):\n",
    "            phi[c_unique] = np.mean(y[c == c_unique])\n",
    "    \n",
    "        cs[iter] = c.copy()\n",
    "        phis[iter] = phi.copy()\n",
    "\n",
    "    return cs, phis\n"
   ]
  },
  {
   "cell_type": "code",
   "execution_count": 23,
   "metadata": {},
   "outputs": [
    {
     "name": "stderr",
     "output_type": "stream",
     "text": [
      "C:\\Users\\billo\\AppData\\Local\\Temp\\ipykernel_6368\\3869038414.py:22: RuntimeWarning: invalid value encountered in divide\n",
      "  sampling_prob /= np.sum(sampling_prob)\n"
     ]
    },
    {
     "ename": "ValueError",
     "evalue": "probabilities contain NaN",
     "output_type": "error",
     "traceback": [
      "\u001b[1;31m---------------------------------------------------------------------------\u001b[0m",
      "\u001b[1;31mValueError\u001b[0m                                Traceback (most recent call last)",
      "Input \u001b[1;32mIn [23]\u001b[0m, in \u001b[0;36m<module>\u001b[1;34m\u001b[0m\n\u001b[0;32m      4\u001b[0m N \u001b[38;5;241m=\u001b[39m \u001b[38;5;241m1000\u001b[39m\n\u001b[0;32m      5\u001b[0m alpha \u001b[38;5;241m=\u001b[39m \u001b[38;5;241m0.25\u001b[39m\n\u001b[1;32m----> 7\u001b[0m cs, phis \u001b[38;5;241m=\u001b[39m \u001b[43malgorithm_2\u001b[49m\u001b[43m(\u001b[49m\u001b[43mN\u001b[49m\u001b[43m,\u001b[49m\u001b[43m \u001b[49m\u001b[43mdata\u001b[49m\u001b[43m,\u001b[49m\u001b[43m \u001b[49m\u001b[43malpha\u001b[49m\u001b[43m)\u001b[49m\n\u001b[0;32m      8\u001b[0m c \u001b[38;5;241m=\u001b[39m cs[\u001b[38;5;241m-\u001b[39m\u001b[38;5;241m1\u001b[39m]\n\u001b[0;32m      9\u001b[0m phi \u001b[38;5;241m=\u001b[39m phis[\u001b[38;5;241m-\u001b[39m\u001b[38;5;241m1\u001b[39m]\n",
      "Input \u001b[1;32mIn [22]\u001b[0m, in \u001b[0;36malgorithm_2\u001b[1;34m(n_iters, y, alpha)\u001b[0m\n\u001b[0;32m     26\u001b[0m     ci_star \u001b[38;5;241m=\u001b[39m np\u001b[38;5;241m.\u001b[39mrandom\u001b[38;5;241m.\u001b[39mchoice(np\u001b[38;5;241m.\u001b[39mappend(c_unique, c[ii]), p\u001b[38;5;241m=\u001b[39msampling_prob)\n\u001b[0;32m     27\u001b[0m \u001b[38;5;28;01melse\u001b[39;00m:\n\u001b[1;32m---> 28\u001b[0m     ci_star \u001b[38;5;241m=\u001b[39m \u001b[43mnp\u001b[49m\u001b[38;5;241;43m.\u001b[39;49m\u001b[43mrandom\u001b[49m\u001b[38;5;241;43m.\u001b[39;49m\u001b[43mchoice\u001b[49m\u001b[43m(\u001b[49m\u001b[43mnp\u001b[49m\u001b[38;5;241;43m.\u001b[39;49m\u001b[43mappend\u001b[49m\u001b[43m(\u001b[49m\u001b[43mc_unique\u001b[49m\u001b[43m,\u001b[49m\u001b[43m \u001b[49m\u001b[43mfind_unused_cluster\u001b[49m\u001b[43m(\u001b[49m\u001b[43mc\u001b[49m\u001b[43m)\u001b[49m\u001b[43m)\u001b[49m\u001b[43m,\u001b[49m\u001b[43m \u001b[49m\u001b[43mp\u001b[49m\u001b[38;5;241;43m=\u001b[39;49m\u001b[43msampling_prob\u001b[49m\u001b[43m)\u001b[49m\n\u001b[0;32m     29\u001b[0m c[ii] \u001b[38;5;241m=\u001b[39m ci_star\n\u001b[0;32m     30\u001b[0m \u001b[38;5;28;01mif\u001b[39;00m np\u001b[38;5;241m.\u001b[39msum(ci_star \u001b[38;5;241m==\u001b[39m c) \u001b[38;5;241m==\u001b[39m \u001b[38;5;241m1\u001b[39m:\n",
      "File \u001b[1;32mmtrand.pyx:954\u001b[0m, in \u001b[0;36mnumpy.random.mtrand.RandomState.choice\u001b[1;34m()\u001b[0m\n",
      "\u001b[1;31mValueError\u001b[0m: probabilities contain NaN"
     ]
    }
   ],
   "source": [
    "# Run algorithm 2\n",
    "data = waiting_data\n",
    "n = len(data)\n",
    "N = 1000\n",
    "alpha = 0.25\n",
    "\n",
    "cs, phis = algorithm_2(N, data, alpha)\n",
    "c = cs[-1]\n",
    "phi = phis[-1]\n",
    "\n",
    "\n",
    "plt.figure()\n",
    "# define infinite list of colors\n",
    "COLORS = cycle(plt.rcParams['axes.prop_cycle'].by_key()['color'])\n",
    "for i, cluster in enumerate(np.unique(c)):\n",
    "    color = next(COLORS)\n",
    "    plt.scatter(np.arange(n)[c == cluster], data[c == cluster], label=cluster, color=color)\n",
    "    plt.axhline(phi[cluster], color=color, linestyle=\"--\")\n",
    "plt.title(\"Generated data\")\n",
    "plt.xlabel(\"x\")\n",
    "plt.ylabel(\"y\")\n",
    "plt.legend()\n",
    "plt.show()\n"
   ]
  },
  {
   "cell_type": "code",
   "execution_count": null,
   "metadata": {},
   "outputs": [],
   "source": []
  }
 ],
 "metadata": {
  "kernelspec": {
   "display_name": "base",
   "language": "python",
   "name": "python3"
  },
  "language_info": {
   "codemirror_mode": {
    "name": "ipython",
    "version": 3
   },
   "file_extension": ".py",
   "mimetype": "text/x-python",
   "name": "python",
   "nbconvert_exporter": "python",
   "pygments_lexer": "ipython3",
   "version": "3.9.7"
  }
 },
 "nbformat": 4,
 "nbformat_minor": 2
}
